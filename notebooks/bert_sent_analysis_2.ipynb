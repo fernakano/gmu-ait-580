{
 "cells": [
  {
   "cell_type": "markdown",
   "id": "professional-treaty",
   "metadata": {},
   "source": [
    "# BERT Sentiment Analysis on GME Reddit /r/wallstreetbets\n",
    "\n",
    "### Validate Environment"
   ]
  },
  {
   "cell_type": "code",
   "execution_count": 1,
   "id": "basic-conflict",
   "metadata": {},
   "outputs": [
    {
     "name": "stdout",
     "output_type": "stream",
     "text": [
      "Python 3.8.0\r\n"
     ]
    }
   ],
   "source": [
    "!python --version"
   ]
  },
  {
   "cell_type": "code",
   "execution_count": 2,
   "id": "critical-excitement",
   "metadata": {},
   "outputs": [
    {
     "name": "stdout",
     "output_type": "stream",
     "text": [
      "/Users/melissacirtain/work/envs/ait/bin/python\r\n"
     ]
    }
   ],
   "source": [
    "!which python"
   ]
  },
  {
   "cell_type": "code",
   "execution_count": 3,
   "id": "sporting-helena",
   "metadata": {},
   "outputs": [
    {
     "name": "stderr",
     "output_type": "stream",
     "text": [
      "All model checkpoint layers were used when initializing TFBertForSequenceClassification.\n",
      "\n",
      "Some layers of TFBertForSequenceClassification were not initialized from the model checkpoint at bert-base-uncased and are newly initialized: ['classifier']\n",
      "You should probably TRAIN this model on a down-stream task to be able to use it for predictions and inference.\n"
     ]
    },
    {
     "name": "stdout",
     "output_type": "stream",
     "text": [
      "Pulled pretrained BERT transformer\n"
     ]
    }
   ],
   "source": [
    "from transformers import BertTokenizer, TFBertForSequenceClassification\n",
    "from transformers import InputExample, InputFeatures\n",
    "import pandas as pd\n",
    "import numpy as np\n",
    "\n",
    "model = TFBertForSequenceClassification.from_pretrained(\"bert-base-uncased\")\n",
    "tokenizer = BertTokenizer.from_pretrained(\"bert-base-uncased\")\n",
    "print('Pulled pretrained BERT transformer')\n",
    "\n",
    "df = pd.read_csv('../datainputs/reddit_wsb.csv')"
   ]
  },
  {
   "cell_type": "code",
   "execution_count": 4,
   "id": "beginning-blind",
   "metadata": {},
   "outputs": [
    {
     "data": {
      "text/html": [
       "<div>\n",
       "<style scoped>\n",
       "    .dataframe tbody tr th:only-of-type {\n",
       "        vertical-align: middle;\n",
       "    }\n",
       "\n",
       "    .dataframe tbody tr th {\n",
       "        vertical-align: top;\n",
       "    }\n",
       "\n",
       "    .dataframe thead th {\n",
       "        text-align: right;\n",
       "    }\n",
       "</style>\n",
       "<table border=\"1\" class=\"dataframe\">\n",
       "  <thead>\n",
       "    <tr style=\"text-align: right;\">\n",
       "      <th></th>\n",
       "      <th>title</th>\n",
       "      <th>score</th>\n",
       "      <th>id</th>\n",
       "      <th>url</th>\n",
       "      <th>comms_num</th>\n",
       "      <th>created</th>\n",
       "      <th>body</th>\n",
       "      <th>timestamp</th>\n",
       "    </tr>\n",
       "  </thead>\n",
       "  <tbody>\n",
       "    <tr>\n",
       "      <th>0</th>\n",
       "      <td>It's not about the money, it's about sending a...</td>\n",
       "      <td>55</td>\n",
       "      <td>l6ulcx</td>\n",
       "      <td>https://v.redd.it/6j75regs72e61</td>\n",
       "      <td>6</td>\n",
       "      <td>1.611863e+09</td>\n",
       "      <td>NaN</td>\n",
       "      <td>2021-01-28 21:37:41</td>\n",
       "    </tr>\n",
       "    <tr>\n",
       "      <th>1</th>\n",
       "      <td>Math Professor Scott Steiner says the numbers ...</td>\n",
       "      <td>110</td>\n",
       "      <td>l6uibd</td>\n",
       "      <td>https://v.redd.it/ah50lyny62e61</td>\n",
       "      <td>23</td>\n",
       "      <td>1.611862e+09</td>\n",
       "      <td>NaN</td>\n",
       "      <td>2021-01-28 21:32:10</td>\n",
       "    </tr>\n",
       "    <tr>\n",
       "      <th>2</th>\n",
       "      <td>Exit the system</td>\n",
       "      <td>0</td>\n",
       "      <td>l6uhhn</td>\n",
       "      <td>https://www.reddit.com/r/wallstreetbets/commen...</td>\n",
       "      <td>47</td>\n",
       "      <td>1.611862e+09</td>\n",
       "      <td>The CEO of NASDAQ pushed to halt trading “to g...</td>\n",
       "      <td>2021-01-28 21:30:35</td>\n",
       "    </tr>\n",
       "    <tr>\n",
       "      <th>3</th>\n",
       "      <td>NEW SEC FILING FOR GME! CAN SOMEONE LESS RETAR...</td>\n",
       "      <td>29</td>\n",
       "      <td>l6ugk6</td>\n",
       "      <td>https://sec.report/Document/0001193125-21-019848/</td>\n",
       "      <td>74</td>\n",
       "      <td>1.611862e+09</td>\n",
       "      <td>NaN</td>\n",
       "      <td>2021-01-28 21:28:57</td>\n",
       "    </tr>\n",
       "    <tr>\n",
       "      <th>4</th>\n",
       "      <td>Not to distract from GME, just thought our AMC...</td>\n",
       "      <td>71</td>\n",
       "      <td>l6ufgy</td>\n",
       "      <td>https://i.redd.it/4h2sukb662e61.jpg</td>\n",
       "      <td>156</td>\n",
       "      <td>1.611862e+09</td>\n",
       "      <td>NaN</td>\n",
       "      <td>2021-01-28 21:26:56</td>\n",
       "    </tr>\n",
       "  </tbody>\n",
       "</table>\n",
       "</div>"
      ],
      "text/plain": [
       "                                               title  score      id  \\\n",
       "0  It's not about the money, it's about sending a...     55  l6ulcx   \n",
       "1  Math Professor Scott Steiner says the numbers ...    110  l6uibd   \n",
       "2                                    Exit the system      0  l6uhhn   \n",
       "3  NEW SEC FILING FOR GME! CAN SOMEONE LESS RETAR...     29  l6ugk6   \n",
       "4  Not to distract from GME, just thought our AMC...     71  l6ufgy   \n",
       "\n",
       "                                                 url  comms_num       created  \\\n",
       "0                    https://v.redd.it/6j75regs72e61          6  1.611863e+09   \n",
       "1                    https://v.redd.it/ah50lyny62e61         23  1.611862e+09   \n",
       "2  https://www.reddit.com/r/wallstreetbets/commen...         47  1.611862e+09   \n",
       "3  https://sec.report/Document/0001193125-21-019848/         74  1.611862e+09   \n",
       "4                https://i.redd.it/4h2sukb662e61.jpg        156  1.611862e+09   \n",
       "\n",
       "                                                body            timestamp  \n",
       "0                                                NaN  2021-01-28 21:37:41  \n",
       "1                                                NaN  2021-01-28 21:32:10  \n",
       "2  The CEO of NASDAQ pushed to halt trading “to g...  2021-01-28 21:30:35  \n",
       "3                                                NaN  2021-01-28 21:28:57  \n",
       "4                                                NaN  2021-01-28 21:26:56  "
      ]
     },
     "execution_count": 4,
     "metadata": {},
     "output_type": "execute_result"
    }
   ],
   "source": [
    "df.head()"
   ]
  },
  {
   "cell_type": "markdown",
   "id": "becoming-sheep",
   "metadata": {},
   "source": [
    "### Filter down to just GME-related titles or bodies"
   ]
  },
  {
   "cell_type": "code",
   "execution_count": 5,
   "id": "designed-festival",
   "metadata": {},
   "outputs": [
    {
     "data": {
      "text/plain": [
       "(5743, 8)"
      ]
     },
     "execution_count": 5,
     "metadata": {},
     "output_type": "execute_result"
    }
   ],
   "source": [
    "df.shape  # (36668, 8) rows to start\n",
    "df[df['title'].str.contains('GME')].shape  # (6711, 8)\n",
    "df[(df['body'].notna()) & (df['body'].str.contains('GME'))].shape   # (5743, 8)"
   ]
  },
  {
   "cell_type": "markdown",
   "id": "conventional-christopher",
   "metadata": {},
   "source": [
    "### Next steps/chat w/ Fernando"
   ]
  },
  {
   "cell_type": "code",
   "execution_count": 6,
   "id": "phantom-vietnamese",
   "metadata": {},
   "outputs": [],
   "source": [
    "strings_to_search = ['game stop', 'gamestop', 'gme']\n",
    "# note: retards is positive in this context\n",
    "# explore transfer learning...(maybe, post MVP)\n",
    "# positive, negative, performance, volume plots\n",
    "# share dataframe w/ sentiment"
   ]
  },
  {
   "cell_type": "markdown",
   "id": "technical-synthesis",
   "metadata": {},
   "source": [
    "### Pull in all the matching posts I can find"
   ]
  },
  {
   "cell_type": "code",
   "execution_count": 7,
   "id": "faced-philadelphia",
   "metadata": {},
   "outputs": [
    {
     "data": {
      "text/html": [
       "<div>\n",
       "<style scoped>\n",
       "    .dataframe tbody tr th:only-of-type {\n",
       "        vertical-align: middle;\n",
       "    }\n",
       "\n",
       "    .dataframe tbody tr th {\n",
       "        vertical-align: top;\n",
       "    }\n",
       "\n",
       "    .dataframe thead th {\n",
       "        text-align: right;\n",
       "    }\n",
       "</style>\n",
       "<table border=\"1\" class=\"dataframe\">\n",
       "  <thead>\n",
       "    <tr style=\"text-align: right;\">\n",
       "      <th></th>\n",
       "      <th>title</th>\n",
       "      <th>score</th>\n",
       "      <th>id</th>\n",
       "      <th>url</th>\n",
       "      <th>comms_num</th>\n",
       "      <th>created</th>\n",
       "      <th>body</th>\n",
       "      <th>timestamp</th>\n",
       "    </tr>\n",
       "  </thead>\n",
       "  <tbody>\n",
       "    <tr>\n",
       "      <th>1</th>\n",
       "      <td>Math Professor Scott Steiner says the numbers ...</td>\n",
       "      <td>110</td>\n",
       "      <td>l6uibd</td>\n",
       "      <td>https://v.redd.it/ah50lyny62e61</td>\n",
       "      <td>23</td>\n",
       "      <td>1.611862e+09</td>\n",
       "      <td>NaN</td>\n",
       "      <td>2021-01-28 21:32:10</td>\n",
       "    </tr>\n",
       "    <tr>\n",
       "      <th>2</th>\n",
       "      <td>Exit the system</td>\n",
       "      <td>0</td>\n",
       "      <td>l6uhhn</td>\n",
       "      <td>https://www.reddit.com/r/wallstreetbets/commen...</td>\n",
       "      <td>47</td>\n",
       "      <td>1.611862e+09</td>\n",
       "      <td>The CEO of NASDAQ pushed to halt trading “to g...</td>\n",
       "      <td>2021-01-28 21:30:35</td>\n",
       "    </tr>\n",
       "    <tr>\n",
       "      <th>3</th>\n",
       "      <td>NEW SEC FILING FOR GME! CAN SOMEONE LESS RETAR...</td>\n",
       "      <td>29</td>\n",
       "      <td>l6ugk6</td>\n",
       "      <td>https://sec.report/Document/0001193125-21-019848/</td>\n",
       "      <td>74</td>\n",
       "      <td>1.611862e+09</td>\n",
       "      <td>NaN</td>\n",
       "      <td>2021-01-28 21:28:57</td>\n",
       "    </tr>\n",
       "    <tr>\n",
       "      <th>4</th>\n",
       "      <td>Not to distract from GME, just thought our AMC...</td>\n",
       "      <td>71</td>\n",
       "      <td>l6ufgy</td>\n",
       "      <td>https://i.redd.it/4h2sukb662e61.jpg</td>\n",
       "      <td>156</td>\n",
       "      <td>1.611862e+09</td>\n",
       "      <td>NaN</td>\n",
       "      <td>2021-01-28 21:26:56</td>\n",
       "    </tr>\n",
       "    <tr>\n",
       "      <th>6</th>\n",
       "      <td>SHORT STOCK DOESN'T HAVE AN EXPIRATION DATE</td>\n",
       "      <td>317</td>\n",
       "      <td>l6uf6d</td>\n",
       "      <td>https://www.reddit.com/r/wallstreetbets/commen...</td>\n",
       "      <td>53</td>\n",
       "      <td>1.611862e+09</td>\n",
       "      <td>Hedgefund whales are spreading disinfo saying ...</td>\n",
       "      <td>2021-01-28 21:26:27</td>\n",
       "    </tr>\n",
       "    <tr>\n",
       "      <th>...</th>\n",
       "      <td>...</td>\n",
       "      <td>...</td>\n",
       "      <td>...</td>\n",
       "      <td>...</td>\n",
       "      <td>...</td>\n",
       "      <td>...</td>\n",
       "      <td>...</td>\n",
       "      <td>...</td>\n",
       "    </tr>\n",
       "    <tr>\n",
       "      <th>36650</th>\n",
       "      <td>Wall Street won’t understand what’s happening ...</td>\n",
       "      <td>1378</td>\n",
       "      <td>lsdnyc</td>\n",
       "      <td>https://www.reddit.com/r/wallstreetbets/commen...</td>\n",
       "      <td>156</td>\n",
       "      <td>1.614308e+09</td>\n",
       "      <td>Where’s the boundary between gambling and inve...</td>\n",
       "      <td>2021-02-26 04:45:46</td>\n",
       "    </tr>\n",
       "    <tr>\n",
       "      <th>36651</th>\n",
       "      <td>Got in GME today. In a sea of red it was a gre...</td>\n",
       "      <td>111</td>\n",
       "      <td>lsdnk6</td>\n",
       "      <td>https://i.redd.it/o7kvl4zw5oj61.jpg</td>\n",
       "      <td>8</td>\n",
       "      <td>1.614308e+09</td>\n",
       "      <td>NaN</td>\n",
       "      <td>2021-02-26 04:45:20</td>\n",
       "    </tr>\n",
       "    <tr>\n",
       "      <th>36654</th>\n",
       "      <td>Some DD on shorting Cramer's mustache.</td>\n",
       "      <td>107</td>\n",
       "      <td>lsdloy</td>\n",
       "      <td>https://www.reddit.com/r/wallstreetbets/commen...</td>\n",
       "      <td>10</td>\n",
       "      <td>1.614307e+09</td>\n",
       "      <td>So I was watching CNBC and saw Cramer talking ...</td>\n",
       "      <td>2021-02-26 04:43:12</td>\n",
       "    </tr>\n",
       "    <tr>\n",
       "      <th>36656</th>\n",
       "      <td>GameStop Round 2? How an options-buying frenzy...</td>\n",
       "      <td>59</td>\n",
       "      <td>lsdjwx</td>\n",
       "      <td>https://www.marketwatch.com/story/gamestop-rou...</td>\n",
       "      <td>13</td>\n",
       "      <td>1.614307e+09</td>\n",
       "      <td>NaN</td>\n",
       "      <td>2021-02-26 04:41:08</td>\n",
       "    </tr>\n",
       "    <tr>\n",
       "      <th>36663</th>\n",
       "      <td>SHORT STOCK DOESN'T HAVE AN EXPIRATION DATE</td>\n",
       "      <td>13299</td>\n",
       "      <td>lsdehv</td>\n",
       "      <td>https://www.reddit.com/r/wallstreetbets/commen...</td>\n",
       "      <td>1030</td>\n",
       "      <td>1.614307e+09</td>\n",
       "      <td>Hedge fund shills are spreading disinformation...</td>\n",
       "      <td>2021-02-26 04:34:35</td>\n",
       "    </tr>\n",
       "  </tbody>\n",
       "</table>\n",
       "<p>12240 rows × 8 columns</p>\n",
       "</div>"
      ],
      "text/plain": [
       "                                                   title  score      id  \\\n",
       "1      Math Professor Scott Steiner says the numbers ...    110  l6uibd   \n",
       "2                                        Exit the system      0  l6uhhn   \n",
       "3      NEW SEC FILING FOR GME! CAN SOMEONE LESS RETAR...     29  l6ugk6   \n",
       "4      Not to distract from GME, just thought our AMC...     71  l6ufgy   \n",
       "6            SHORT STOCK DOESN'T HAVE AN EXPIRATION DATE    317  l6uf6d   \n",
       "...                                                  ...    ...     ...   \n",
       "36650  Wall Street won’t understand what’s happening ...   1378  lsdnyc   \n",
       "36651  Got in GME today. In a sea of red it was a gre...    111  lsdnk6   \n",
       "36654             Some DD on shorting Cramer's mustache.    107  lsdloy   \n",
       "36656  GameStop Round 2? How an options-buying frenzy...     59  lsdjwx   \n",
       "36663        SHORT STOCK DOESN'T HAVE AN EXPIRATION DATE  13299  lsdehv   \n",
       "\n",
       "                                                     url  comms_num  \\\n",
       "1                        https://v.redd.it/ah50lyny62e61         23   \n",
       "2      https://www.reddit.com/r/wallstreetbets/commen...         47   \n",
       "3      https://sec.report/Document/0001193125-21-019848/         74   \n",
       "4                    https://i.redd.it/4h2sukb662e61.jpg        156   \n",
       "6      https://www.reddit.com/r/wallstreetbets/commen...         53   \n",
       "...                                                  ...        ...   \n",
       "36650  https://www.reddit.com/r/wallstreetbets/commen...        156   \n",
       "36651                https://i.redd.it/o7kvl4zw5oj61.jpg          8   \n",
       "36654  https://www.reddit.com/r/wallstreetbets/commen...         10   \n",
       "36656  https://www.marketwatch.com/story/gamestop-rou...         13   \n",
       "36663  https://www.reddit.com/r/wallstreetbets/commen...       1030   \n",
       "\n",
       "            created                                               body  \\\n",
       "1      1.611862e+09                                                NaN   \n",
       "2      1.611862e+09  The CEO of NASDAQ pushed to halt trading “to g...   \n",
       "3      1.611862e+09                                                NaN   \n",
       "4      1.611862e+09                                                NaN   \n",
       "6      1.611862e+09  Hedgefund whales are spreading disinfo saying ...   \n",
       "...             ...                                                ...   \n",
       "36650  1.614308e+09  Where’s the boundary between gambling and inve...   \n",
       "36651  1.614308e+09                                                NaN   \n",
       "36654  1.614307e+09  So I was watching CNBC and saw Cramer talking ...   \n",
       "36656  1.614307e+09                                                NaN   \n",
       "36663  1.614307e+09  Hedge fund shills are spreading disinformation...   \n",
       "\n",
       "                 timestamp  \n",
       "1      2021-01-28 21:32:10  \n",
       "2      2021-01-28 21:30:35  \n",
       "3      2021-01-28 21:28:57  \n",
       "4      2021-01-28 21:26:56  \n",
       "6      2021-01-28 21:26:27  \n",
       "...                    ...  \n",
       "36650  2021-02-26 04:45:46  \n",
       "36651  2021-02-26 04:45:20  \n",
       "36654  2021-02-26 04:43:12  \n",
       "36656  2021-02-26 04:41:08  \n",
       "36663  2021-02-26 04:34:35  \n",
       "\n",
       "[12240 rows x 8 columns]"
      ]
     },
     "execution_count": 7,
     "metadata": {},
     "output_type": "execute_result"
    }
   ],
   "source": [
    "#searchfor = ['og', 'at']\n",
    "#s[s.str.contains('|'.join(searchfor))]\n",
    "\n",
    "# Search over all titles and non-empty bodies for our search expressions\n",
    "df[((df['body'].notna()) & (df['body'].str.contains('|'.join(strings_to_search)))) | \n",
    "  (df['title'].str.contains('|'.join(strings_to_search)))]  # 1267 rows × 8 columns\n",
    "\n",
    "# ignoring case:  (?i)\n",
    "df[((df['body'].notna()) & (df['body'].str.lower().str.contains('|'.join(strings_to_search)))) | \n",
    "  (df['title'].str.lower().str.contains('|'.join(strings_to_search)))]  # YES! 12240 rows × 8 columns"
   ]
  },
  {
   "cell_type": "code",
   "execution_count": 8,
   "id": "whole-payday",
   "metadata": {},
   "outputs": [],
   "source": [
    "# What else might we look for?\n",
    "\n",
    "# grab indices matching the above, inspect rows not in that index...\n",
    "known_gme_idx = df[((df['body'].notna()) & (df['body'].str.lower().str.contains('|'.join(strings_to_search)))) | \n",
    "  (df['title'].str.lower().str.contains('|'.join(strings_to_search)))].index"
   ]
  },
  {
   "cell_type": "markdown",
   "id": "recognized-transmission",
   "metadata": {},
   "source": [
    "### Classify Titles\n",
    "- so we can make a time series"
   ]
  },
  {
   "cell_type": "code",
   "execution_count": 11,
   "id": "tender-classics",
   "metadata": {},
   "outputs": [
    {
     "name": "stderr",
     "output_type": "stream",
     "text": [
      "Some layers from the model checkpoint at distilbert-base-uncased-finetuned-sst-2-english were not used when initializing TFDistilBertForSequenceClassification: ['dropout_19']\n",
      "- This IS expected if you are initializing TFDistilBertForSequenceClassification from the checkpoint of a model trained on another task or with another architecture (e.g. initializing a BertForSequenceClassification model from a BertForPreTraining model).\n",
      "- This IS NOT expected if you are initializing TFDistilBertForSequenceClassification from the checkpoint of a model that you expect to be exactly identical (initializing a BertForSequenceClassification model from a BertForSequenceClassification model).\n",
      "Some layers of TFDistilBertForSequenceClassification were not initialized from the model checkpoint at distilbert-base-uncased-finetuned-sst-2-english and are newly initialized: ['dropout_57']\n",
      "You should probably TRAIN this model on a down-stream task to be able to use it for predictions and inference.\n"
     ]
    },
    {
     "name": "stdout",
     "output_type": "stream",
     "text": [
      "['title', 'score', 'id', 'url', 'comms_num', 'created', 'body', 'timestamp']\n",
      "classifying titles\n",
      "CPU times: user 29min 29s, sys: 2min 55s, total: 32min 24s\n",
      "Wall time: 14min 28s\n"
     ]
    }
   ],
   "source": [
    "%%time\n",
    "\n",
    "# Make a GME-only classified dataframe\n",
    "from transformers import pipeline\n",
    "\n",
    "# Allocate a pipeline for sentiment-analysis\n",
    "classifier = pipeline('sentiment-analysis')\n",
    "\n",
    "print([x for x in df.columns])\n",
    "\n",
    "# Drop non-gme posts\n",
    "df = df.iloc[known_gme_idx]\n",
    "\n",
    "# Apply classifier over title for the GME-related rows\n",
    "print('classifying titles')\n",
    "df['title_sentiment'] = df['title'].apply(classifier)\n"
   ]
  },
  {
   "cell_type": "markdown",
   "id": "diagnostic-language",
   "metadata": {},
   "source": [
    "### Classify bodies"
   ]
  },
  {
   "cell_type": "code",
   "execution_count": 12,
   "id": "atomic-skill",
   "metadata": {},
   "outputs": [
    {
     "name": "stdout",
     "output_type": "stream",
     "text": [
      "CPU times: user 136 µs, sys: 2 µs, total: 138 µs\n",
      "Wall time: 142 µs\n"
     ]
    },
    {
     "data": {
      "text/html": [
       "<div>\n",
       "<style scoped>\n",
       "    .dataframe tbody tr th:only-of-type {\n",
       "        vertical-align: middle;\n",
       "    }\n",
       "\n",
       "    .dataframe tbody tr th {\n",
       "        vertical-align: top;\n",
       "    }\n",
       "\n",
       "    .dataframe thead th {\n",
       "        text-align: right;\n",
       "    }\n",
       "</style>\n",
       "<table border=\"1\" class=\"dataframe\">\n",
       "  <thead>\n",
       "    <tr style=\"text-align: right;\">\n",
       "      <th></th>\n",
       "      <th>title</th>\n",
       "      <th>score</th>\n",
       "      <th>id</th>\n",
       "      <th>url</th>\n",
       "      <th>comms_num</th>\n",
       "      <th>created</th>\n",
       "      <th>body</th>\n",
       "      <th>timestamp</th>\n",
       "      <th>title_sentiment</th>\n",
       "    </tr>\n",
       "  </thead>\n",
       "  <tbody>\n",
       "    <tr>\n",
       "      <th>1</th>\n",
       "      <td>Math Professor Scott Steiner says the numbers ...</td>\n",
       "      <td>110</td>\n",
       "      <td>l6uibd</td>\n",
       "      <td>https://v.redd.it/ah50lyny62e61</td>\n",
       "      <td>23</td>\n",
       "      <td>1.611862e+09</td>\n",
       "      <td>NaN</td>\n",
       "      <td>2021-01-28 21:32:10</td>\n",
       "      <td>[{'label': 'NEGATIVE', 'score': 0.999741792678...</td>\n",
       "    </tr>\n",
       "    <tr>\n",
       "      <th>2</th>\n",
       "      <td>Exit the system</td>\n",
       "      <td>0</td>\n",
       "      <td>l6uhhn</td>\n",
       "      <td>https://www.reddit.com/r/wallstreetbets/commen...</td>\n",
       "      <td>47</td>\n",
       "      <td>1.611862e+09</td>\n",
       "      <td>The CEO of NASDAQ pushed to halt trading “to g...</td>\n",
       "      <td>2021-01-28 21:30:35</td>\n",
       "      <td>[{'label': 'NEGATIVE', 'score': 0.999687314033...</td>\n",
       "    </tr>\n",
       "    <tr>\n",
       "      <th>3</th>\n",
       "      <td>NEW SEC FILING FOR GME! CAN SOMEONE LESS RETAR...</td>\n",
       "      <td>29</td>\n",
       "      <td>l6ugk6</td>\n",
       "      <td>https://sec.report/Document/0001193125-21-019848/</td>\n",
       "      <td>74</td>\n",
       "      <td>1.611862e+09</td>\n",
       "      <td>NaN</td>\n",
       "      <td>2021-01-28 21:28:57</td>\n",
       "      <td>[{'label': 'NEGATIVE', 'score': 0.996105611324...</td>\n",
       "    </tr>\n",
       "    <tr>\n",
       "      <th>4</th>\n",
       "      <td>Not to distract from GME, just thought our AMC...</td>\n",
       "      <td>71</td>\n",
       "      <td>l6ufgy</td>\n",
       "      <td>https://i.redd.it/4h2sukb662e61.jpg</td>\n",
       "      <td>156</td>\n",
       "      <td>1.611862e+09</td>\n",
       "      <td>NaN</td>\n",
       "      <td>2021-01-28 21:26:56</td>\n",
       "      <td>[{'label': 'NEGATIVE', 'score': 0.996898174285...</td>\n",
       "    </tr>\n",
       "    <tr>\n",
       "      <th>6</th>\n",
       "      <td>SHORT STOCK DOESN'T HAVE AN EXPIRATION DATE</td>\n",
       "      <td>317</td>\n",
       "      <td>l6uf6d</td>\n",
       "      <td>https://www.reddit.com/r/wallstreetbets/commen...</td>\n",
       "      <td>53</td>\n",
       "      <td>1.611862e+09</td>\n",
       "      <td>Hedgefund whales are spreading disinfo saying ...</td>\n",
       "      <td>2021-01-28 21:26:27</td>\n",
       "      <td>[{'label': 'POSITIVE', 'score': 0.993022918701...</td>\n",
       "    </tr>\n",
       "  </tbody>\n",
       "</table>\n",
       "</div>"
      ],
      "text/plain": [
       "                                               title  score      id  \\\n",
       "1  Math Professor Scott Steiner says the numbers ...    110  l6uibd   \n",
       "2                                    Exit the system      0  l6uhhn   \n",
       "3  NEW SEC FILING FOR GME! CAN SOMEONE LESS RETAR...     29  l6ugk6   \n",
       "4  Not to distract from GME, just thought our AMC...     71  l6ufgy   \n",
       "6        SHORT STOCK DOESN'T HAVE AN EXPIRATION DATE    317  l6uf6d   \n",
       "\n",
       "                                                 url  comms_num       created  \\\n",
       "1                    https://v.redd.it/ah50lyny62e61         23  1.611862e+09   \n",
       "2  https://www.reddit.com/r/wallstreetbets/commen...         47  1.611862e+09   \n",
       "3  https://sec.report/Document/0001193125-21-019848/         74  1.611862e+09   \n",
       "4                https://i.redd.it/4h2sukb662e61.jpg        156  1.611862e+09   \n",
       "6  https://www.reddit.com/r/wallstreetbets/commen...         53  1.611862e+09   \n",
       "\n",
       "                                                body            timestamp  \\\n",
       "1                                                NaN  2021-01-28 21:32:10   \n",
       "2  The CEO of NASDAQ pushed to halt trading “to g...  2021-01-28 21:30:35   \n",
       "3                                                NaN  2021-01-28 21:28:57   \n",
       "4                                                NaN  2021-01-28 21:26:56   \n",
       "6  Hedgefund whales are spreading disinfo saying ...  2021-01-28 21:26:27   \n",
       "\n",
       "                                     title_sentiment  \n",
       "1  [{'label': 'NEGATIVE', 'score': 0.999741792678...  \n",
       "2  [{'label': 'NEGATIVE', 'score': 0.999687314033...  \n",
       "3  [{'label': 'NEGATIVE', 'score': 0.996105611324...  \n",
       "4  [{'label': 'NEGATIVE', 'score': 0.996898174285...  \n",
       "6  [{'label': 'POSITIVE', 'score': 0.993022918701...  "
      ]
     },
     "execution_count": 12,
     "metadata": {},
     "output_type": "execute_result"
    }
   ],
   "source": [
    "%%time\n",
    "\n",
    "df.head()"
   ]
  },
  {
   "cell_type": "markdown",
   "id": "failing-glass",
   "metadata": {},
   "source": [
    "### Replace NaN with ''"
   ]
  },
  {
   "cell_type": "code",
   "execution_count": 13,
   "id": "promising-prayer",
   "metadata": {},
   "outputs": [
    {
     "name": "stderr",
     "output_type": "stream",
     "text": [
      "<ipython-input-13-48cd8606d1fc>:1: SettingWithCopyWarning: \n",
      "A value is trying to be set on a copy of a slice from a DataFrame\n",
      "\n",
      "See the caveats in the documentation: https://pandas.pydata.org/pandas-docs/stable/user_guide/indexing.html#returning-a-view-versus-a-copy\n",
      "  df['body'][df['body'].isna()] = ''\n"
     ]
    },
    {
     "data": {
      "text/html": [
       "<div>\n",
       "<style scoped>\n",
       "    .dataframe tbody tr th:only-of-type {\n",
       "        vertical-align: middle;\n",
       "    }\n",
       "\n",
       "    .dataframe tbody tr th {\n",
       "        vertical-align: top;\n",
       "    }\n",
       "\n",
       "    .dataframe thead th {\n",
       "        text-align: right;\n",
       "    }\n",
       "</style>\n",
       "<table border=\"1\" class=\"dataframe\">\n",
       "  <thead>\n",
       "    <tr style=\"text-align: right;\">\n",
       "      <th></th>\n",
       "      <th>title</th>\n",
       "      <th>score</th>\n",
       "      <th>id</th>\n",
       "      <th>url</th>\n",
       "      <th>comms_num</th>\n",
       "      <th>created</th>\n",
       "      <th>body</th>\n",
       "      <th>timestamp</th>\n",
       "      <th>title_sentiment</th>\n",
       "    </tr>\n",
       "  </thead>\n",
       "  <tbody>\n",
       "    <tr>\n",
       "      <th>1</th>\n",
       "      <td>Math Professor Scott Steiner says the numbers ...</td>\n",
       "      <td>110</td>\n",
       "      <td>l6uibd</td>\n",
       "      <td>https://v.redd.it/ah50lyny62e61</td>\n",
       "      <td>23</td>\n",
       "      <td>1.611862e+09</td>\n",
       "      <td></td>\n",
       "      <td>2021-01-28 21:32:10</td>\n",
       "      <td>[{'label': 'NEGATIVE', 'score': 0.999741792678...</td>\n",
       "    </tr>\n",
       "    <tr>\n",
       "      <th>2</th>\n",
       "      <td>Exit the system</td>\n",
       "      <td>0</td>\n",
       "      <td>l6uhhn</td>\n",
       "      <td>https://www.reddit.com/r/wallstreetbets/commen...</td>\n",
       "      <td>47</td>\n",
       "      <td>1.611862e+09</td>\n",
       "      <td>The CEO of NASDAQ pushed to halt trading “to g...</td>\n",
       "      <td>2021-01-28 21:30:35</td>\n",
       "      <td>[{'label': 'NEGATIVE', 'score': 0.999687314033...</td>\n",
       "    </tr>\n",
       "    <tr>\n",
       "      <th>3</th>\n",
       "      <td>NEW SEC FILING FOR GME! CAN SOMEONE LESS RETAR...</td>\n",
       "      <td>29</td>\n",
       "      <td>l6ugk6</td>\n",
       "      <td>https://sec.report/Document/0001193125-21-019848/</td>\n",
       "      <td>74</td>\n",
       "      <td>1.611862e+09</td>\n",
       "      <td></td>\n",
       "      <td>2021-01-28 21:28:57</td>\n",
       "      <td>[{'label': 'NEGATIVE', 'score': 0.996105611324...</td>\n",
       "    </tr>\n",
       "    <tr>\n",
       "      <th>4</th>\n",
       "      <td>Not to distract from GME, just thought our AMC...</td>\n",
       "      <td>71</td>\n",
       "      <td>l6ufgy</td>\n",
       "      <td>https://i.redd.it/4h2sukb662e61.jpg</td>\n",
       "      <td>156</td>\n",
       "      <td>1.611862e+09</td>\n",
       "      <td></td>\n",
       "      <td>2021-01-28 21:26:56</td>\n",
       "      <td>[{'label': 'NEGATIVE', 'score': 0.996898174285...</td>\n",
       "    </tr>\n",
       "    <tr>\n",
       "      <th>6</th>\n",
       "      <td>SHORT STOCK DOESN'T HAVE AN EXPIRATION DATE</td>\n",
       "      <td>317</td>\n",
       "      <td>l6uf6d</td>\n",
       "      <td>https://www.reddit.com/r/wallstreetbets/commen...</td>\n",
       "      <td>53</td>\n",
       "      <td>1.611862e+09</td>\n",
       "      <td>Hedgefund whales are spreading disinfo saying ...</td>\n",
       "      <td>2021-01-28 21:26:27</td>\n",
       "      <td>[{'label': 'POSITIVE', 'score': 0.993022918701...</td>\n",
       "    </tr>\n",
       "  </tbody>\n",
       "</table>\n",
       "</div>"
      ],
      "text/plain": [
       "                                               title  score      id  \\\n",
       "1  Math Professor Scott Steiner says the numbers ...    110  l6uibd   \n",
       "2                                    Exit the system      0  l6uhhn   \n",
       "3  NEW SEC FILING FOR GME! CAN SOMEONE LESS RETAR...     29  l6ugk6   \n",
       "4  Not to distract from GME, just thought our AMC...     71  l6ufgy   \n",
       "6        SHORT STOCK DOESN'T HAVE AN EXPIRATION DATE    317  l6uf6d   \n",
       "\n",
       "                                                 url  comms_num       created  \\\n",
       "1                    https://v.redd.it/ah50lyny62e61         23  1.611862e+09   \n",
       "2  https://www.reddit.com/r/wallstreetbets/commen...         47  1.611862e+09   \n",
       "3  https://sec.report/Document/0001193125-21-019848/         74  1.611862e+09   \n",
       "4                https://i.redd.it/4h2sukb662e61.jpg        156  1.611862e+09   \n",
       "6  https://www.reddit.com/r/wallstreetbets/commen...         53  1.611862e+09   \n",
       "\n",
       "                                                body            timestamp  \\\n",
       "1                                                     2021-01-28 21:32:10   \n",
       "2  The CEO of NASDAQ pushed to halt trading “to g...  2021-01-28 21:30:35   \n",
       "3                                                     2021-01-28 21:28:57   \n",
       "4                                                     2021-01-28 21:26:56   \n",
       "6  Hedgefund whales are spreading disinfo saying ...  2021-01-28 21:26:27   \n",
       "\n",
       "                                     title_sentiment  \n",
       "1  [{'label': 'NEGATIVE', 'score': 0.999741792678...  \n",
       "2  [{'label': 'NEGATIVE', 'score': 0.999687314033...  \n",
       "3  [{'label': 'NEGATIVE', 'score': 0.996105611324...  \n",
       "4  [{'label': 'NEGATIVE', 'score': 0.996898174285...  \n",
       "6  [{'label': 'POSITIVE', 'score': 0.993022918701...  "
      ]
     },
     "execution_count": 13,
     "metadata": {},
     "output_type": "execute_result"
    }
   ],
   "source": [
    "df['body'][df['body'].isna()] = ''\n",
    "df.head()"
   ]
  },
  {
   "cell_type": "markdown",
   "id": "suitable-moment",
   "metadata": {},
   "source": [
    "### Custom classifier wrapper"
   ]
  },
  {
   "cell_type": "code",
   "execution_count": 14,
   "id": "secondary-copper",
   "metadata": {},
   "outputs": [
    {
     "name": "stdout",
     "output_type": "stream",
     "text": [
      "classifying bodies\n",
      "CPU times: user 51min 26s, sys: 11min 58s, total: 1h 3min 25s\n",
      "Wall time: 28min 9s\n"
     ]
    }
   ],
   "source": [
    "%%time\n",
    "#assert False\n",
    "\n",
    "df['short_body'] = df['body'].str[:500]\n",
    "\n",
    "# Apply classifier over bodies for the GME-related rows that aren't null\n",
    "print('classifying bodies')\n",
    "#df['body_sentiment'] = df['body'].apply(classifier)\n",
    "def classify_bodies(row):\n",
    "    try:\n",
    "        return classifier(row)\n",
    "    except Exception as e:\n",
    "        print(f'failed on row: \\n\\n{row} \\n\\n***** {e}\\n\\n')\n",
    "        return 'fail'\n",
    "    \n",
    "df['body_sentiment'] = df['short_body'].apply(classify_bodies)"
   ]
  },
  {
   "cell_type": "code",
   "execution_count": 15,
   "id": "processed-defense",
   "metadata": {},
   "outputs": [],
   "source": [
    "df.head()\n",
    "df.to_csv('fully_classified_gme_posts.csv')"
   ]
  },
  {
   "cell_type": "markdown",
   "id": "higher-christopher",
   "metadata": {},
   "source": [
    "### Split classifications into labels and scores"
   ]
  },
  {
   "cell_type": "code",
   "execution_count": 17,
   "id": "pharmaceutical-supplement",
   "metadata": {},
   "outputs": [
    {
     "name": "stdout",
     "output_type": "stream",
     "text": [
      "CPU times: user 20.2 ms, sys: 1.83 ms, total: 22 ms\n",
      "Wall time: 20.7 ms\n"
     ]
    }
   ],
   "source": [
    "%%time\n",
    "\n",
    "# split out scores and labels for sentiment: body and title\n",
    "df['body_sent'] = df['body_sentiment'].apply(lambda x: x[0]['label'])\n",
    "df['body_score'] = df['body_sentiment'].apply(lambda x: x[0]['score'])\n",
    "df['title_sent'] = df['title_sentiment'].apply(lambda x: x[0]['label'])\n",
    "df['title_score'] = df['title_sentiment'].apply(lambda x: x[0]['score'])"
   ]
  },
  {
   "cell_type": "markdown",
   "id": "suitable-playing",
   "metadata": {},
   "source": [
    "### Save classified CSV"
   ]
  },
  {
   "cell_type": "code",
   "execution_count": 18,
   "id": "annual-sentence",
   "metadata": {},
   "outputs": [],
   "source": [
    "df.to_csv('classified_and_split_gme_posts.csv')"
   ]
  }
 ],
 "metadata": {
  "kernelspec": {
   "display_name": "Python 3",
   "language": "python",
   "name": "python3"
  },
  "language_info": {
   "codemirror_mode": {
    "name": "ipython",
    "version": 3
   },
   "file_extension": ".py",
   "mimetype": "text/x-python",
   "name": "python",
   "nbconvert_exporter": "python",
   "pygments_lexer": "ipython3",
   "version": "3.8.0"
  }
 },
 "nbformat": 4,
 "nbformat_minor": 5
}
